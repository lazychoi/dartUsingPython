{
  "nbformat": 4,
  "nbformat_minor": 0,
  "metadata": {
    "colab": {
      "name": "[파이썬 전자공시 활용] 네이버 기업현황.ipynb",
      "provenance": [],
      "authorship_tag": "ABX9TyPPqQSl4TTBtraqfjfHEuM/",
      "include_colab_link": true
    },
    "kernelspec": {
      "name": "python3",
      "display_name": "Python 3"
    }
  },
  "cells": [
    {
      "cell_type": "markdown",
      "metadata": {
        "id": "view-in-github",
        "colab_type": "text"
      },
      "source": [
        "<a href=\"https://colab.research.google.com/github/lazychoi/dartUsingPython/blob/master/%5B%ED%8C%8C%EC%9D%B4%EC%8D%AC_%EC%A0%84%EC%9E%90%EA%B3%B5%EC%8B%9C_%ED%99%9C%EC%9A%A9%5D_%EB%84%A4%EC%9D%B4%EB%B2%84_%EA%B8%B0%EC%97%85%ED%98%84%ED%99%A9.ipynb\" target=\"_parent\"><img src=\"https://colab.research.google.com/assets/colab-badge.svg\" alt=\"Open In Colab\"/></a>"
      ]
    },
    {
      "cell_type": "markdown",
      "metadata": {
        "id": "043xiCh9i9HM",
        "colab_type": "text"
      },
      "source": [
        "# 3. 네이버파이낸스 기업현황 가져오기\n",
        "\n",
        "주소: http://companyinfo.stock.naver.com/v1/company/c1010001.aspx?cmp_cd=005930"
      ]
    },
    {
      "cell_type": "code",
      "metadata": {
        "id": "9YOqZKlTi5oC",
        "colab_type": "code",
        "colab": {
          "base_uri": "https://localhost:8080/",
          "height": 275
        },
        "outputId": "63552df7-37c1-42c0-95b4-e8eac0a76b49"
      },
      "source": [
        "import requests\n",
        "from bs4 import BeautifulSoup\n",
        "\n",
        "code = '005930'\n",
        "url = 'http://companyinfo.stock.naver.com/v1/company/c1010001.aspx?cmp_cd=' + code\n",
        "\n",
        "r = requests.get(url)\n",
        "soup = BeautifulSoup(r.text)\n",
        "td = soup.find('td', { 'class':'cmp-table-cell td0101'})\n",
        "td"
      ],
      "execution_count": 1,
      "outputs": [
        {
          "output_type": "execute_result",
          "data": {
            "text/plain": [
              "<td class=\"cmp-table-cell td0101\">\n",
              "<dl>\n",
              "<dt>\n",
              "<span class=\"name\">삼성전자</span>\n",
              "<a class=\"cEm\" href=\"http://www.sec.co.kr\" target=\"comPage\" title=\"[홈페이지] www.sec.co.kr\"><img align=\"absmiddle\" hspace=\"3\" src=\"/images/icon_home.gif\"/></a>\n",
              "<a class=\"cEm\" title=\"[대표전화] 031-200-1114       \n",
              "[주식담당] 02-2255-9000\"><img align=\"absmiddle\" hspace=\"1\" src=\"/images/icon_tel.gif\"/></a>\n",
              "<b class=\"num\">005930</b>\n",
              "</dt>\n",
              "<dt class=\"line-left\">SamsungElec</dt>\n",
              "<dt class=\"line-left\">KOSPI : 전기전자</dt>\n",
              "<dt class=\"line-left\">WICS : 반도체와반도체장비</dt>\n",
              "</dl>\n",
              "</td>"
            ]
          },
          "metadata": {
            "tags": []
          },
          "execution_count": 1
        }
      ]
    },
    {
      "cell_type": "code",
      "metadata": {
        "id": "Uva38CG-jEJN",
        "colab_type": "code",
        "colab": {
          "base_uri": "https://localhost:8080/",
          "height": 34
        },
        "outputId": "5059dc47-6387-4d0f-f933-9fd9ad417cad"
      },
      "source": [
        "td.find('span', {'class': 'name'}).text"
      ],
      "execution_count": 2,
      "outputs": [
        {
          "output_type": "execute_result",
          "data": {
            "text/plain": [
              "'삼성전자'"
            ]
          },
          "metadata": {
            "tags": []
          },
          "execution_count": 2
        }
      ]
    },
    {
      "cell_type": "code",
      "metadata": {
        "id": "aWUSILHXjK7E",
        "colab_type": "code",
        "colab": {
          "base_uri": "https://localhost:8080/",
          "height": 88
        },
        "outputId": "1fd85283-41ad-463b-bef5-ffdcc0858856"
      },
      "source": [
        "anchors = td.find_all('a', {'class':'cEm'}) # 회사정보가 있는 class=cEm 태그를 모두 가져온다.\n",
        "anchors # 배열로 되어 있다."
      ],
      "execution_count": 3,
      "outputs": [
        {
          "output_type": "execute_result",
          "data": {
            "text/plain": [
              "[<a class=\"cEm\" href=\"http://www.sec.co.kr\" target=\"comPage\" title=\"[홈페이지] www.sec.co.kr\"><img align=\"absmiddle\" hspace=\"3\" src=\"/images/icon_home.gif\"/></a>,\n",
              " <a class=\"cEm\" title=\"[대표전화] 031-200-1114       \n",
              " [주식담당] 02-2255-9000\"><img align=\"absmiddle\" hspace=\"1\" src=\"/images/icon_tel.gif\"/></a>]"
            ]
          },
          "metadata": {
            "tags": []
          },
          "execution_count": 3
        }
      ]
    },
    {
      "cell_type": "code",
      "metadata": {
        "id": "_voG8t7cjOZd",
        "colab_type": "code",
        "colab": {
          "base_uri": "https://localhost:8080/",
          "height": 54
        },
        "outputId": "44b80263-4379-4e0e-a0f7-a891ff670f2a"
      },
      "source": [
        "anchors[0]"
      ],
      "execution_count": 4,
      "outputs": [
        {
          "output_type": "execute_result",
          "data": {
            "text/plain": [
              "<a class=\"cEm\" href=\"http://www.sec.co.kr\" target=\"comPage\" title=\"[홈페이지] www.sec.co.kr\"><img align=\"absmiddle\" hspace=\"3\" src=\"/images/icon_home.gif\"/></a>"
            ]
          },
          "metadata": {
            "tags": []
          },
          "execution_count": 4
        }
      ]
    },
    {
      "cell_type": "code",
      "metadata": {
        "id": "8zgGR5KKjRCM",
        "colab_type": "code",
        "colab": {
          "base_uri": "https://localhost:8080/",
          "height": 34
        },
        "outputId": "2576c7ba-64ae-4ddc-a8fc-76b9d9ca47ea"
      },
      "source": [
        "anchors[0]['href']"
      ],
      "execution_count": 5,
      "outputs": [
        {
          "output_type": "execute_result",
          "data": {
            "text/plain": [
              "'http://www.sec.co.kr'"
            ]
          },
          "metadata": {
            "tags": []
          },
          "execution_count": 5
        }
      ]
    },
    {
      "cell_type": "code",
      "metadata": {
        "id": "fcxetv-sjToS",
        "colab_type": "code",
        "colab": {
          "base_uri": "https://localhost:8080/",
          "height": 34
        },
        "outputId": "7355b90b-389b-41af-fe7a-8075841b80c9"
      },
      "source": [
        "anchors[1]['title'].replace('\\r', '') # 대표전화와 주담 전화번호를 가져온다. 줄바꿈 문자를 없앤다"
      ],
      "execution_count": 6,
      "outputs": [
        {
          "output_type": "execute_result",
          "data": {
            "text/plain": [
              "'[대표전화] 031-200-1114       [주식담당] 02-2255-9000'"
            ]
          },
          "metadata": {
            "tags": []
          },
          "execution_count": 6
        }
      ]
    },
    {
      "cell_type": "code",
      "metadata": {
        "id": "CQDKDzCUjWRo",
        "colab_type": "code",
        "colab": {
          "base_uri": "https://localhost:8080/",
          "height": 68
        },
        "outputId": "ca23b163-84c5-43bf-ab55-f30508e776a4"
      },
      "source": [
        "dts = td.find_all('dt', {'class' : 'line-left'}) # 기업명과 유형이 있는 곳은 <dt> 태그의 line-left 클래스다\n",
        "print(dts[0].text)\n",
        "print(dts[1].text)\n",
        "print(dts[2].text)"
      ],
      "execution_count": 7,
      "outputs": [
        {
          "output_type": "stream",
          "text": [
            "SamsungElec\n",
            "KOSPI : 전기전자\n",
            "WICS : 반도체와반도체장비\n"
          ],
          "name": "stdout"
        }
      ]
    },
    {
      "cell_type": "code",
      "metadata": {
        "id": "FlPITetgjY9b",
        "colab_type": "code",
        "colab": {}
      },
      "source": [
        ""
      ],
      "execution_count": 0,
      "outputs": []
    }
  ]
}