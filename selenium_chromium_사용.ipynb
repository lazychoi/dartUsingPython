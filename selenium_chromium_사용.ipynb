{
  "nbformat": 4,
  "nbformat_minor": 0,
  "metadata": {
    "colab": {
      "name": "selenium chromium 사용.ipynb",
      "provenance": [],
      "toc_visible": true,
      "authorship_tag": "ABX9TyPCONML9Vx4j6LCtT+n0aXw",
      "include_colab_link": true
    },
    "kernelspec": {
      "name": "python3",
      "display_name": "Python 3"
    }
  },
  "cells": [
    {
      "cell_type": "markdown",
      "metadata": {
        "id": "view-in-github",
        "colab_type": "text"
      },
      "source": [
        "<a href=\"https://colab.research.google.com/github/lazychoi/dartUsingPython/blob/master/selenium_chromium_%EC%82%AC%EC%9A%A9.ipynb\" target=\"_parent\"><img src=\"https://colab.research.google.com/assets/colab-badge.svg\" alt=\"Open In Colab\"/></a>"
      ]
    },
    {
      "cell_type": "markdown",
      "metadata": {
        "id": "PxAR4Mi0JVxG",
        "colab_type": "text"
      },
      "source": [
        "# Colab에서 Selenium 사용\n",
        "\n",
        "\n"
      ]
    },
    {
      "cell_type": "markdown",
      "metadata": {
        "id": "DbpE5DWGj-bM",
        "colab_type": "text"
      },
      "source": [
        "## install Selenium \n",
        "\n",
        "\n",
        "```\n",
        "!pip install selenium\n",
        "```\n"
      ]
    },
    {
      "cell_type": "code",
      "metadata": {
        "id": "hEZGy3-lJXrK",
        "colab_type": "code",
        "colab": {
          "base_uri": "https://localhost:8080/",
          "height": 139
        },
        "outputId": "c46c2df9-83c5-40f6-c8cc-e5674ba8e12d"
      },
      "source": [
        "!pip install selenium"
      ],
      "execution_count": 1,
      "outputs": [
        {
          "output_type": "stream",
          "text": [
            "Collecting selenium\n",
            "\u001b[?25l  Downloading https://files.pythonhosted.org/packages/80/d6/4294f0b4bce4de0abf13e17190289f9d0613b0a44e5dd6a7f5ca98459853/selenium-3.141.0-py2.py3-none-any.whl (904kB)\n",
            "\u001b[K     |████████████████████████████████| 911kB 2.7MB/s \n",
            "\u001b[?25hRequirement already satisfied: urllib3 in /usr/local/lib/python3.6/dist-packages (from selenium) (1.24.3)\n",
            "Installing collected packages: selenium\n",
            "Successfully installed selenium-3.141.0\n"
          ],
          "name": "stdout"
        }
      ]
    },
    {
      "cell_type": "markdown",
      "metadata": {
        "id": "4Jz22b_Cjh0M",
        "colab_type": "text"
      },
      "source": [
        "## install chromedriver\n",
        "\n",
        "1. !apt-get update\n",
        "2. !apt install chromium-chromedriver"
      ]
    },
    {
      "cell_type": "code",
      "metadata": {
        "id": "VwAfNUEoWG6l",
        "colab_type": "code",
        "colab": {
          "base_uri": "https://localhost:8080/",
          "height": 598
        },
        "outputId": "f6bbc255-9efe-4fc3-ecf1-8500b4ecd658"
      },
      "source": [
        "! apt install chromium-chromedriver"
      ],
      "execution_count": 16,
      "outputs": [
        {
          "output_type": "stream",
          "text": [
            "Reading package lists... Done\n",
            "Building dependency tree       \n",
            "Reading state information... Done\n",
            "The following package was automatically installed and is no longer required:\n",
            "  libnvidia-common-430\n",
            "Use 'apt autoremove' to remove it.\n",
            "The following additional packages will be installed:\n",
            "  chromium-browser chromium-browser-l10n chromium-codecs-ffmpeg-extra\n",
            "Suggested packages:\n",
            "  webaccounts-chromium-extension unity-chromium-extension adobe-flashplugin\n",
            "The following NEW packages will be installed:\n",
            "  chromium-browser chromium-browser-l10n chromium-chromedriver\n",
            "  chromium-codecs-ffmpeg-extra\n",
            "0 upgraded, 4 newly installed, 0 to remove and 25 not upgraded.\n",
            "Need to get 72.7 MB of archives.\n",
            "After this operation, 259 MB of additional disk space will be used.\n",
            "Ign:1 http://archive.ubuntu.com/ubuntu bionic-updates/universe amd64 chromium-codecs-ffmpeg-extra amd64 79.0.3945.130-0ubuntu0.18.04.1\n",
            "Ign:2 http://archive.ubuntu.com/ubuntu bionic-updates/universe amd64 chromium-browser amd64 79.0.3945.130-0ubuntu0.18.04.1\n",
            "Ign:3 http://archive.ubuntu.com/ubuntu bionic-updates/universe amd64 chromium-browser-l10n all 79.0.3945.130-0ubuntu0.18.04.1\n",
            "Ign:4 http://archive.ubuntu.com/ubuntu bionic-updates/universe amd64 chromium-chromedriver amd64 79.0.3945.130-0ubuntu0.18.04.1\n",
            "Err:1 http://security.ubuntu.com/ubuntu bionic-updates/universe amd64 chromium-codecs-ffmpeg-extra amd64 79.0.3945.130-0ubuntu0.18.04.1\n",
            "  404  Not Found [IP: 91.189.88.24 80]\n",
            "Err:2 http://security.ubuntu.com/ubuntu bionic-updates/universe amd64 chromium-browser amd64 79.0.3945.130-0ubuntu0.18.04.1\n",
            "  404  Not Found [IP: 91.189.88.24 80]\n",
            "Err:3 http://security.ubuntu.com/ubuntu bionic-updates/universe amd64 chromium-browser-l10n all 79.0.3945.130-0ubuntu0.18.04.1\n",
            "  404  Not Found [IP: 91.189.88.24 80]\n",
            "Err:4 http://security.ubuntu.com/ubuntu bionic-updates/universe amd64 chromium-chromedriver amd64 79.0.3945.130-0ubuntu0.18.04.1\n",
            "  404  Not Found [IP: 91.189.88.24 80]\n",
            "E: Failed to fetch http://security.ubuntu.com/ubuntu/pool/universe/c/chromium-browser/chromium-codecs-ffmpeg-extra_79.0.3945.130-0ubuntu0.18.04.1_amd64.deb  404  Not Found [IP: 91.189.88.24 80]\n",
            "E: Failed to fetch http://security.ubuntu.com/ubuntu/pool/universe/c/chromium-browser/chromium-browser_79.0.3945.130-0ubuntu0.18.04.1_amd64.deb  404  Not Found [IP: 91.189.88.24 80]\n",
            "E: Failed to fetch http://security.ubuntu.com/ubuntu/pool/universe/c/chromium-browser/chromium-browser-l10n_79.0.3945.130-0ubuntu0.18.04.1_all.deb  404  Not Found [IP: 91.189.88.24 80]\n",
            "E: Failed to fetch http://security.ubuntu.com/ubuntu/pool/universe/c/chromium-browser/chromium-chromedriver_79.0.3945.130-0ubuntu0.18.04.1_amd64.deb  404  Not Found [IP: 91.189.88.24 80]\n",
            "E: Unable to fetch some archives, maybe run apt-get update or try with --fix-missing?\n"
          ],
          "name": "stdout"
        }
      ]
    },
    {
      "cell_type": "code",
      "metadata": {
        "id": "NCANAjEiWkqs",
        "colab_type": "code",
        "colab": {
          "base_uri": "https://localhost:8080/",
          "height": 459
        },
        "outputId": "5b2db53b-5bcf-4f86-f262-b6d74d583bb0"
      },
      "source": [
        "# 위 오류 해결하기 위해 실행\n",
        "\n",
        "! apt-get update"
      ],
      "execution_count": 17,
      "outputs": [
        {
          "output_type": "stream",
          "text": [
            "\r0% [Working]\r            \rIgn:1 https://developer.download.nvidia.com/compute/cuda/repos/ubuntu1804/x86_64  InRelease\n",
            "\r0% [Connecting to archive.ubuntu.com] [Waiting for headers] [Connecting to clou\r                                                                               \rGet:2 http://security.ubuntu.com/ubuntu bionic-security InRelease [88.7 kB]\n",
            "\r0% [Connecting to archive.ubuntu.com (91.189.88.162)] [2 InRelease 0 B/88.7 kB \r                                                                               \rIgn:3 https://developer.download.nvidia.com/compute/machine-learning/repos/ubuntu1804/x86_64  InRelease\n",
            "\r0% [Connecting to archive.ubuntu.com (91.189.88.162)] [2 InRelease 14.2 kB/88.7\r                                                                               \rHit:4 https://developer.download.nvidia.com/compute/cuda/repos/ubuntu1804/x86_64  Release\n",
            "\r0% [Connecting to archive.ubuntu.com (91.189.88.162)] [2 InRelease 14.2 kB/88.7\r                                                                               \rGet:5 https://cloud.r-project.org/bin/linux/ubuntu bionic-cran35/ InRelease [3,626 B]\n",
            "Hit:6 https://developer.download.nvidia.com/compute/machine-learning/repos/ubuntu1804/x86_64  Release\n",
            "Hit:8 http://archive.ubuntu.com/ubuntu bionic InRelease\n",
            "Get:9 https://cloud.r-project.org/bin/linux/ubuntu bionic-cran35/ Packages [83.6 kB]\n",
            "Get:10 http://ppa.launchpad.net/graphics-drivers/ppa/ubuntu bionic InRelease [21.3 kB]\n",
            "Get:11 http://archive.ubuntu.com/ubuntu bionic-updates InRelease [88.7 kB]\n",
            "Get:13 http://security.ubuntu.com/ubuntu bionic-security/main amd64 Packages [836 kB]\n",
            "Get:14 http://ppa.launchpad.net/marutter/c2d4u3.5/ubuntu bionic InRelease [15.4 kB]\n",
            "Get:15 http://archive.ubuntu.com/ubuntu bionic-backports InRelease [74.6 kB]\n",
            "Get:16 http://ppa.launchpad.net/graphics-drivers/ppa/ubuntu bionic/main amd64 Packages [36.9 kB]\n",
            "Get:17 http://archive.ubuntu.com/ubuntu bionic-updates/restricted amd64 Packages [44.7 kB]\n",
            "Get:18 http://security.ubuntu.com/ubuntu bionic-security/universe amd64 Packages [824 kB]\n",
            "Get:19 http://archive.ubuntu.com/ubuntu bionic-updates/universe amd64 Packages [1,351 kB]\n",
            "Get:20 http://security.ubuntu.com/ubuntu bionic-security/multiverse amd64 Packages [7,641 B]\n",
            "Get:21 http://security.ubuntu.com/ubuntu bionic-security/restricted amd64 Packages [31.0 kB]\n",
            "Get:22 http://ppa.launchpad.net/marutter/c2d4u3.5/ubuntu bionic/main Sources [1,775 kB]\n",
            "Get:23 http://archive.ubuntu.com/ubuntu bionic-updates/main amd64 Packages [1,128 kB]\n",
            "Get:24 http://archive.ubuntu.com/ubuntu bionic-updates/multiverse amd64 Packages [11.7 kB]\n",
            "Get:25 http://archive.ubuntu.com/ubuntu bionic-backports/universe amd64 Packages [4,247 B]\n",
            "Get:26 http://ppa.launchpad.net/marutter/c2d4u3.5/ubuntu bionic/main amd64 Packages [857 kB]\n",
            "Fetched 7,284 kB in 7s (988 kB/s)\n",
            "Reading package lists... Done\n"
          ],
          "name": "stdout"
        }
      ]
    },
    {
      "cell_type": "code",
      "metadata": {
        "id": "x5z2MZbmWsO0",
        "colab_type": "code",
        "colab": {
          "base_uri": "https://localhost:8080/",
          "height": 768
        },
        "outputId": "fe6de20f-3606-48a8-cf98-4372cd59aa01"
      },
      "source": [
        "!apt install chromium-chromedriver"
      ],
      "execution_count": 18,
      "outputs": [
        {
          "output_type": "stream",
          "text": [
            "Reading package lists... Done\n",
            "Building dependency tree       \n",
            "Reading state information... Done\n",
            "The following package was automatically installed and is no longer required:\n",
            "  libnvidia-common-430\n",
            "Use 'apt autoremove' to remove it.\n",
            "The following additional packages will be installed:\n",
            "  chromium-browser chromium-browser-l10n chromium-codecs-ffmpeg-extra\n",
            "Suggested packages:\n",
            "  webaccounts-chromium-extension unity-chromium-extension adobe-flashplugin\n",
            "The following NEW packages will be installed:\n",
            "  chromium-browser chromium-browser-l10n chromium-chromedriver\n",
            "  chromium-codecs-ffmpeg-extra\n",
            "0 upgraded, 4 newly installed, 0 to remove and 109 not upgraded.\n",
            "Need to get 74.4 MB of archives.\n",
            "After this operation, 264 MB of additional disk space will be used.\n",
            "Get:1 http://archive.ubuntu.com/ubuntu bionic-updates/universe amd64 chromium-codecs-ffmpeg-extra amd64 80.0.3987.87-0ubuntu0.18.04.1 [1,095 kB]\n",
            "Get:2 http://archive.ubuntu.com/ubuntu bionic-updates/universe amd64 chromium-browser amd64 80.0.3987.87-0ubuntu0.18.04.1 [66.1 MB]\n",
            "Get:3 http://archive.ubuntu.com/ubuntu bionic-updates/universe amd64 chromium-browser-l10n all 80.0.3987.87-0ubuntu0.18.04.1 [3,155 kB]\n",
            "Get:4 http://archive.ubuntu.com/ubuntu bionic-updates/universe amd64 chromium-chromedriver amd64 80.0.3987.87-0ubuntu0.18.04.1 [4,044 kB]\n",
            "Fetched 74.4 MB in 10s (7,817 kB/s)\n",
            "Selecting previously unselected package chromium-codecs-ffmpeg-extra.\n",
            "(Reading database ... 134443 files and directories currently installed.)\n",
            "Preparing to unpack .../chromium-codecs-ffmpeg-extra_80.0.3987.87-0ubuntu0.18.04.1_amd64.deb ...\n",
            "Unpacking chromium-codecs-ffmpeg-extra (80.0.3987.87-0ubuntu0.18.04.1) ...\n",
            "Selecting previously unselected package chromium-browser.\n",
            "Preparing to unpack .../chromium-browser_80.0.3987.87-0ubuntu0.18.04.1_amd64.deb ...\n",
            "Unpacking chromium-browser (80.0.3987.87-0ubuntu0.18.04.1) ...\n",
            "Selecting previously unselected package chromium-browser-l10n.\n",
            "Preparing to unpack .../chromium-browser-l10n_80.0.3987.87-0ubuntu0.18.04.1_all.deb ...\n",
            "Unpacking chromium-browser-l10n (80.0.3987.87-0ubuntu0.18.04.1) ...\n",
            "Selecting previously unselected package chromium-chromedriver.\n",
            "Preparing to unpack .../chromium-chromedriver_80.0.3987.87-0ubuntu0.18.04.1_amd64.deb ...\n",
            "Unpacking chromium-chromedriver (80.0.3987.87-0ubuntu0.18.04.1) ...\n",
            "Setting up chromium-codecs-ffmpeg-extra (80.0.3987.87-0ubuntu0.18.04.1) ...\n",
            "Setting up chromium-browser (80.0.3987.87-0ubuntu0.18.04.1) ...\n",
            "update-alternatives: using /usr/bin/chromium-browser to provide /usr/bin/x-www-browser (x-www-browser) in auto mode\n",
            "update-alternatives: using /usr/bin/chromium-browser to provide /usr/bin/gnome-www-browser (gnome-www-browser) in auto mode\n",
            "Setting up chromium-chromedriver (80.0.3987.87-0ubuntu0.18.04.1) ...\n",
            "Setting up chromium-browser-l10n (80.0.3987.87-0ubuntu0.18.04.1) ...\n",
            "Processing triggers for hicolor-icon-theme (0.17-2) ...\n",
            "Processing triggers for mime-support (3.60ubuntu1) ...\n",
            "Processing triggers for man-db (2.8.3-2ubuntu0.1) ...\n"
          ],
          "name": "stdout"
        }
      ]
    },
    {
      "cell_type": "markdown",
      "metadata": {
        "id": "3DpvJ752j3WJ",
        "colab_type": "text"
      },
      "source": [
        "## 웹 페이지 가져오기"
      ]
    },
    {
      "cell_type": "code",
      "metadata": {
        "id": "NZDLwYmnRvJT",
        "colab_type": "code",
        "colab": {
          "base_uri": "https://localhost:8080/",
          "height": 54
        },
        "outputId": "44acfba5-b777-4d76-f7cb-d4ed4a470c47"
      },
      "source": [
        "from selenium import webdriver\n",
        "from bs4 import BeautifulSoup\n",
        "\n",
        "url = 'http://www.fastcampus.com'\n",
        "\n",
        "# options = webdriver.ChromeOptions()\n",
        "# options.add_argument('--headless')\n",
        "# options.add_argument('--no-sandbox')\n",
        "# options.add_argument('--disable-dev-shm-usage')\n",
        "\n",
        "# open it, go to a website, and get results\n",
        "wd = webdriver.Chrome('chromedriver',options=options)\n",
        "wd.get(url)\n",
        "\n",
        "bs = BeautifulSoup(wd.page_source, 'lxml')\n",
        "bs"
      ],
      "execution_count": 28,
      "outputs": [
        {
          "output_type": "execute_result",
          "data": {
            "text/plain": [
              "<html lang=\"de\"><head> <meta content=\"Domain registriert bei united-domains.de\" name=\"description\"/> <meta content=\"text/html; charset=utf-8\" http-equiv=\"Content-Type\"/> <title>Domain im Kundenauftrag registriert</title> <style> html,body{height:100%; margin:0; padding:0; background-color:#FFF; font-family:Arial,Verdana,sans-serif}body{text-align:center; background-color:#f0f2f3}.spacerTop{margin-top:40px}a:link,a:hover,a:visited,a:focus{margin:0; padding:0; border:none}.dvLink:link,.dvLink:hover,.dvLink:visited,.dvLink:focus{background:url(\"https://www.united-domains.de/assets/img/icons/link-arrow.png\") right center no-repeat; padding-right:12px; border:0 none; text-decoration:none; font-weight:normal; color:#0079c8}.dvLink:hover{text-decoration:underline}.dvLink.no-ico{background:none; padding:0}.logo-wrapper{width:100%; background-color:#fff; padding:55px 0}#logo{margin:0 auto; width:600px; height:50px; background-position:left center; background-repeat:no-repeat; -moz-background-size:0 0,contain; background-size:contain,0 0;  background-image:url('https://www.united-domains.de/images/evolution/udag_logo.png'); background-image:url('https://www.united-domains.de/images/evolution/udag_logo.svg'),url('https://www.united-domains.de/images/evolution/udag_logo.png');  /* Hide text */ overflow:hidden; text-indent:-9999px; font-size:0; color:rgba(255,255,255,0); text-align:left}#logo img{border:none}.logo-href{display:block; width:320px; height:50px}.header-wrapper{width:100%; background-color:#3e6994}.header{margin:0 auto; width:600px; padding:38px 0; text-align:left; font-size:14px}.title{margin:0; font-size:23px; color:#fff; font-weight:normal}.content-wrapper{margin:0 auto; text-align:center; background-color:#fff}.content{width:600px; margin:0 auto; padding:30px 0; background-color:#fff; line-height:21px; font-size:14px; text-align:left}.footer-wrapper{width:100%; min-height:120px; background-color:#f0f2f3}.footer{width:600px; margin:0 auto; padding-top:30px; text-align:left; font-size:14px}</style> </head> <body> <div class=\"logo-wrapper\"> <div id=\"logo\"> <a class=\"logo-href\" href=\"https://www.united-domains.de\" rel=\"nofollow\" target=\"_blank\"> </a> </div> </div> <div class=\"header-wrapper\"> <div class=\"header\"> <h1 class=\"title\">Diese neue Domain wurde im Kundenauftrag registriert.</h1> </div> </div> <div class=\"content-wrapper\"> <div class=\"content\"> <p> <b>Warum wird diese Seite angezeigt?</b><br/> Diese Seite wurde automatisch erstellt. Sie wird bei jeder neuen Domain hinterlegt und zeigt, dass die neue Domain erreichbar ist.<br/> Ohne diese Platzhalter-Seite würden Besucher eine Fehlermeldung erhalten. Als Kunde von united-domains können Sie diese Domain in Ihrem <a class=\"dvLink no-ico\" href=\"https://www.united-domains.de/login/\" rel=\"nofollow\">Domain-Portfolio</a> jederzeit selbst online konfigurieren (z.B. Web-Weiterleitungen, E-Mail-Einstellungen, Webspace hinzubuchen, Homepage-Baukasten bestellen, DNS-Einträge ändern). </p> <p class=\"spacerTop\"> <b>united-domains - Die besten Adressen fürs Web</b> </p> <p> <a class=\"dvLink\" href=\"https://www.united-domains.de/\" rel=\"nofollow\">Weitere Domains günstig registrieren </a> </p> <p> <a class=\"dvLink\" href=\"https://www.united-domains.de/email_website/homepage-baukasten/\" rel=\"nofollow\"> Gehen Sie einfach und schnell online mit unserem Homepage-Baukasten </a> </p> <p> <a class=\"dvLink\" href=\"https://www.united-domains.de/neue-top-level-domain/\" rel=\"nofollow\">Neue Domain-Endungen vorbestellen</a> </p> <p> <a class=\"dvLink\" href=\"https://www.united-domains.de/unternehmen/kontakt/\" rel=\"nofollow\">Impressum</a> </p> <p> <a class=\"dvLink\" href=\"https://www.united-domains.de/unternehmen/datenschutz/\" rel=\"nofollow\">Datenschutzerklärung</a> </p> </div> </div> <div class=\"footer-wrapper\"> <div class=\"footer\">© united-domains AG. <span> Alle Rechte vorbehalten.</span> </div> </div> </body></html>"
            ]
          },
          "metadata": {
            "tags": []
          },
          "execution_count": 28
        }
      ]
    },
    {
      "cell_type": "code",
      "metadata": {
        "id": "mnsXVGC4UhVc",
        "colab_type": "code",
        "colab": {}
      },
      "source": [
        ""
      ],
      "execution_count": 0,
      "outputs": []
    }
  ]
}