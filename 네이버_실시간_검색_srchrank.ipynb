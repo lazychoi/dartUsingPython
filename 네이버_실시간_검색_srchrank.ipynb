{
  "nbformat": 4,
  "nbformat_minor": 0,
  "metadata": {
    "colab": {
      "name": "네이버 실시간 검색 srchrank.ipynb",
      "provenance": [],
      "collapsed_sections": [],
      "include_colab_link": true
    },
    "language_info": {
      "codemirror_mode": {
        "name": "ipython",
        "version": 3
      },
      "file_extension": ".py",
      "mimetype": "text/x-python",
      "name": "python",
      "nbconvert_exporter": "python",
      "pygments_lexer": "ipython3",
      "version": "3.5.2"
    },
    "kernelspec": {
      "display_name": "Python 3",
      "language": "python",
      "name": "python3"
    }
  },
  "cells": [
    {
      "cell_type": "markdown",
      "metadata": {
        "id": "view-in-github",
        "colab_type": "text"
      },
      "source": [
        "<a href=\"https://colab.research.google.com/github/lazychoi/dartUsingPython/blob/master/%E1%84%82%E1%85%A6%E1%84%8B%E1%85%B5%E1%84%87%E1%85%A5_%E1%84%89%E1%85%B5%E1%86%AF%E1%84%89%E1%85%B5%E1%84%80%E1%85%A1%E1%86%AB_%E1%84%80%E1%85%A5%E1%86%B7%E1%84%89%E1%85%A2%E1%86%A8_srchrank.ipynb\" target=\"_parent\"><img src=\"https://colab.research.google.com/assets/colab-badge.svg\" alt=\"Open In Colab\"/></a>"
      ]
    },
    {
      "cell_type": "markdown",
      "metadata": {
        "id": "bVpdBLqqJdD1",
        "colab_type": "text"
      },
      "source": [
        "## 네이버 실시간 검색\n",
        "\n",
        "#### 2019-2020 [FinanceData.KR](http://financedata.kr) | [facebook.com/financedata](http://facebook.com/financedata)\n",
        "\n"
      ]
    },
    {
      "cell_type": "markdown",
      "metadata": {
        "id": "SpRlk68gSKXD",
        "colab_type": "text"
      },
      "source": [
        "## 네이버 실시간 검색 \n",
        "\n",
        "https://naver.com\n",
        "\n",
        "화면 오른쪽 상단에 급상승 검색어 부분이 있습니다\n",
        "\n",
        "<img src=\"https://i.imgur.com/u0gUy5q.png\" >\n"
      ]
    },
    {
      "cell_type": "markdown",
      "metadata": {
        "id": "VROSaR2kJc-u",
        "colab_type": "text"
      },
      "source": [
        "## 페이지 소스 와 개발자 도구 화면\n",
        "페이지 소스는 수신한 HTML 문서 입니다(requests로 가져온 내용과 동일합니다). 개발자 도구에서 보여지는 내용은 현재 화면에 보여지는 내용(렌더링된 내용)입니다.\n",
        "\n",
        "페이지 소스(HTML 문서)의 내용이 화면에 보여지는 내용(렌더링된 내용)과 동일하지 않습니다. 동적으로 생성되는 내용이 있기 떄문입니다. 자동으로 혹은 사용자 상호작용 스크립트에 의해 내용이 달라집니다.\n",
        "\n"
      ]
    },
    {
      "cell_type": "markdown",
      "metadata": {
        "id": "p-3LTCFRSvt4",
        "colab_type": "text"
      },
      "source": [
        "### 페이지 소스\n",
        "`view-source:https://www.naver.com/` (혹은 Ctrl+U)\n",
        "\n",
        "페이지 내용에서 아래 부분이 실시간 검색어 부분입니다. 내용이 비어 있습니다.\n",
        "\n",
        "```html\n",
        "<div id=\"NM_RTK_ROLLING_WRAP\" class=\"ah_roll_area\"></div>\n",
        "```\n",
        "<img src=\"https://i.imgur.com/EQjAz9R.png\" >\n",
        "\n",
        "\n"
      ]
    },
    {
      "cell_type": "markdown",
      "metadata": {
        "id": "aIuJgLbSMnA9",
        "colab_type": "text"
      },
      "source": [
        "### 개발자도구 화면\n",
        "개발자도구서 보면 `<div id=\"NM_RTK_ROLLING_WRAP\">` 태그의 하위에 실시간 검색어 내용들이 있는 것을 확인할 수 있습니다. 즉, 내용이 동적으로 삽입된 것입니다.\n",
        "\n",
        "<img src=\"https://i.imgur.com/vu4qyGr.png\" >\n",
        "\n"
      ]
    },
    {
      "cell_type": "markdown",
      "metadata": {
        "id": "ycG4QmSJJc40",
        "colab_type": "text"
      },
      "source": [
        "그렇다면 데이터는 어떻게 어디로 부터 가져왔을 까요?\n",
        "\n",
        "별도의 통신을 통해 가져왔습니다.\n",
        "\n"
      ]
    },
    {
      "cell_type": "markdown",
      "metadata": {
        "id": "UhErYahBOTRj",
        "colab_type": "text"
      },
      "source": [
        "## XHR (Ajax) 통신 \n",
        "서버와 주고 받는 데이터 중에 순수하게 데이터만 가져노는 요청이 있습니다.\n",
        "\n",
        "페이지를 요청하기 전, Network 탭에서 'XHR'만 활성화 해놓고 보면 바로 보입니다. 요청 URL은 다음과 같습니다.\n",
        "\n",
        "https://www.naver.com/srchrank\n",
        "\n",
        "혹은,\n",
        "\n",
        "https://www.naver.com/srchrank?frm=main&ag=all&gr=1&ma=-2&si=0&en=0&sp=0\n",
        "\n",
        "```json\n",
        "{\n",
        "  \"ts\": \"2020-02-24T03:07:00+0900\",\n",
        "  \"sm\": \"agallgrpmamsi0en0sp0\",\n",
        "  \"rop\": [\n",
        "    { \"ag\": \"all\" }, { \"gr\": \"01\"  }, { \"ma\": \"-2\"  }, { \"si\": \"00\"  }, { \"en\": \"00\"  }, { \"sp\": \"00\"  }\n",
        "  ],\n",
        "  \"data\": [\n",
        "    {\n",
        "      \"rank\": 1,\n",
        "      \"keyword\": \"하이바이, 마마!\",\n",
        "      \"keyword_synonyms\": [\n",
        "        \"하이바이마마\"\n",
        "      ]\n",
        "    },\n",
        "    {\n",
        "      \"rank\": 2,\n",
        "      \"keyword\": \"코로나 학원 휴원\",\n",
        "      \"keyword_synonyms\": [\n",
        "        \"코로나 학교 휴교\"\n",
        "      ]\n",
        "    },\n",
        "    {\n",
        "      \"rank\": 3,\n",
        "      \"keyword\": \"기저질환\",\n",
        "      \"keyword_synonyms\": [\n",
        "        \"기저질환 뜻\"\n",
        "      ]\n",
        "    },\n",
        "    /// ... 중략 ...\n",
        "    {\n",
        "      \"rank\": 20,\n",
        "      \"keyword\": \"변정수\",\n",
        "      \"keyword_synonyms\": [\n",
        "        \n",
        "      ]\n",
        "    }\n",
        "  ]\n",
        "}\n",
        "```\n",
        "\n",
        "<img src=\"https://i.imgur.com/GiEjvdN.png\" >\n",
        "\n",
        "<img src=\"https://i.imgur.com/gH2NANk.png\" >\n"
      ]
    },
    {
      "cell_type": "markdown",
      "metadata": {
        "id": "IiNNTaX_OVK1",
        "colab_type": "text"
      },
      "source": [
        "https://www.naver.com/srchrank?frm=main&ag=all&gr=1&ma=-2&si=0&en=0&sp=0"
      ]
    },
    {
      "cell_type": "markdown",
      "metadata": {
        "id": "vqNLydgTH61U",
        "colab_type": "text"
      },
      "source": [
        "## JSON 데이터와 json_normalize() 함수\n",
        "\n",
        "https://www.naver.com/srchrank\n",
        "\n",
        "위 URL을 요청하면 데이터만 수신할 수 있습니다. JSON 데이터는 json_normalize()를 통해 간편하게 데이터프레임으로 만들 수 있습니다"
      ]
    },
    {
      "cell_type": "code",
      "metadata": {
        "id": "lIjuKPB3H6vP",
        "colab_type": "code",
        "outputId": "b80ada92-ea5d-44bd-a09c-13a2e7178da9",
        "colab": {
          "base_uri": "https://localhost:8080/",
          "height": 669
        }
      },
      "source": [
        "import json, requests\n",
        "from pandas.io.json import json_normalize\n",
        "\n",
        "r = requests.get('https://www.naver.com/srchrank')\n",
        "jo = json.loads(r.text)\n",
        "df = json_normalize(jo['data'])\n",
        "df[['rank', 'keyword']]"
      ],
      "execution_count": 0,
      "outputs": [
        {
          "output_type": "execute_result",
          "data": {
            "text/html": [
              "<div>\n",
              "<style scoped>\n",
              "    .dataframe tbody tr th:only-of-type {\n",
              "        vertical-align: middle;\n",
              "    }\n",
              "\n",
              "    .dataframe tbody tr th {\n",
              "        vertical-align: top;\n",
              "    }\n",
              "\n",
              "    .dataframe thead th {\n",
              "        text-align: right;\n",
              "    }\n",
              "</style>\n",
              "<table border=\"1\" class=\"dataframe\">\n",
              "  <thead>\n",
              "    <tr style=\"text-align: right;\">\n",
              "      <th></th>\n",
              "      <th>rank</th>\n",
              "      <th>keyword</th>\n",
              "    </tr>\n",
              "  </thead>\n",
              "  <tbody>\n",
              "    <tr>\n",
              "      <th>0</th>\n",
              "      <td>1</td>\n",
              "      <td>코로나나우</td>\n",
              "    </tr>\n",
              "    <tr>\n",
              "      <th>1</th>\n",
              "      <td>2</td>\n",
              "      <td>모리셔스</td>\n",
              "    </tr>\n",
              "    <tr>\n",
              "      <th>2</th>\n",
              "      <td>3</td>\n",
              "      <td>김보라</td>\n",
              "    </tr>\n",
              "    <tr>\n",
              "      <th>3</th>\n",
              "      <td>4</td>\n",
              "      <td>코로나 학원 휴원</td>\n",
              "    </tr>\n",
              "    <tr>\n",
              "      <th>4</th>\n",
              "      <td>5</td>\n",
              "      <td>코로나 대구 봉쇄</td>\n",
              "    </tr>\n",
              "    <tr>\n",
              "      <th>5</th>\n",
              "      <td>6</td>\n",
              "      <td>심재철</td>\n",
              "    </tr>\n",
              "    <tr>\n",
              "      <th>6</th>\n",
              "      <td>7</td>\n",
              "      <td>아시아드요양병원</td>\n",
              "    </tr>\n",
              "    <tr>\n",
              "      <th>7</th>\n",
              "      <td>8</td>\n",
              "      <td>광주광역시청</td>\n",
              "    </tr>\n",
              "    <tr>\n",
              "      <th>8</th>\n",
              "      <td>9</td>\n",
              "      <td>명성교회</td>\n",
              "    </tr>\n",
              "    <tr>\n",
              "      <th>9</th>\n",
              "      <td>10</td>\n",
              "      <td>상현동 다경</td>\n",
              "    </tr>\n",
              "    <tr>\n",
              "      <th>10</th>\n",
              "      <td>11</td>\n",
              "      <td>하윤수</td>\n",
              "    </tr>\n",
              "    <tr>\n",
              "      <th>11</th>\n",
              "      <td>12</td>\n",
              "      <td>살인자의 기억법</td>\n",
              "    </tr>\n",
              "    <tr>\n",
              "      <th>12</th>\n",
              "      <td>13</td>\n",
              "      <td>김민아</td>\n",
              "    </tr>\n",
              "    <tr>\n",
              "      <th>13</th>\n",
              "      <td>14</td>\n",
              "      <td>전희경</td>\n",
              "    </tr>\n",
              "    <tr>\n",
              "      <th>14</th>\n",
              "      <td>15</td>\n",
              "      <td>이탈리아 코로나</td>\n",
              "    </tr>\n",
              "    <tr>\n",
              "      <th>15</th>\n",
              "      <td>16</td>\n",
              "      <td>한국153</td>\n",
              "    </tr>\n",
              "    <tr>\n",
              "      <th>16</th>\n",
              "      <td>17</td>\n",
              "      <td>코호트 격리 뜻</td>\n",
              "    </tr>\n",
              "    <tr>\n",
              "      <th>17</th>\n",
              "      <td>18</td>\n",
              "      <td>시흥 코로나</td>\n",
              "    </tr>\n",
              "    <tr>\n",
              "      <th>18</th>\n",
              "      <td>19</td>\n",
              "      <td>파주 코로나</td>\n",
              "    </tr>\n",
              "    <tr>\n",
              "      <th>19</th>\n",
              "      <td>20</td>\n",
              "      <td>시흥경찰서</td>\n",
              "    </tr>\n",
              "  </tbody>\n",
              "</table>\n",
              "</div>"
            ],
            "text/plain": [
              "    rank    keyword\n",
              "0      1      코로나나우\n",
              "1      2       모리셔스\n",
              "2      3        김보라\n",
              "3      4  코로나 학원 휴원\n",
              "4      5  코로나 대구 봉쇄\n",
              "5      6        심재철\n",
              "6      7   아시아드요양병원\n",
              "7      8     광주광역시청\n",
              "8      9       명성교회\n",
              "9     10     상현동 다경\n",
              "10    11        하윤수\n",
              "11    12   살인자의 기억법\n",
              "12    13        김민아\n",
              "13    14        전희경\n",
              "14    15   이탈리아 코로나\n",
              "15    16      한국153\n",
              "16    17   코호트 격리 뜻\n",
              "17    18     시흥 코로나\n",
              "18    19     파주 코로나\n",
              "19    20      시흥경찰서"
            ]
          },
          "metadata": {
            "tags": []
          },
          "execution_count": 1
        }
      ]
    },
    {
      "cell_type": "markdown",
      "metadata": {
        "id": "vXDTYZ1-QH3R",
        "colab_type": "text"
      },
      "source": [
        "#### 2019-2020 [FinanceData.KR](http://financedata.kr) | [facebook.com/financedata](http://facebook.com/financedata)"
      ]
    },
    {
      "cell_type": "code",
      "metadata": {
        "id": "VXP3X2y0V5IK",
        "colab_type": "code",
        "colab": {}
      },
      "source": [
        ""
      ],
      "execution_count": 0,
      "outputs": []
    }
  ]
}