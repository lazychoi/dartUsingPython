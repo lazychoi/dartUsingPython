{
  "nbformat": 4,
  "nbformat_minor": 0,
  "metadata": {
    "colab": {
      "name": "네이버증권 시간별 시세 가져오기.ipynb",
      "provenance": [],
      "collapsed_sections": [],
      "authorship_tag": "ABX9TyPvh9D6NfzEf1lnMSqbghny",
      "include_colab_link": true
    },
    "kernelspec": {
      "name": "python3",
      "display_name": "Python 3"
    }
  },
  "cells": [
    {
      "cell_type": "markdown",
      "metadata": {
        "id": "view-in-github",
        "colab_type": "text"
      },
      "source": [
        "<a href=\"https://colab.research.google.com/github/lazychoi/dartUsingPython/blob/master/%EB%84%A4%EC%9D%B4%EB%B2%84%EC%A6%9D%EA%B6%8C_%EC%8B%9C%EA%B0%84%EB%B3%84_%EC%8B%9C%EC%84%B8_%EA%B0%80%EC%A0%B8%EC%98%A4%EA%B8%B0.ipynb\" target=\"_parent\"><img src=\"https://colab.research.google.com/assets/colab-badge.svg\" alt=\"Open In Colab\"/></a>"
      ]
    },
    {
      "cell_type": "markdown",
      "metadata": {
        "id": "h7vs5a_HzLDX",
        "colab_type": "text"
      },
      "source": [
        "# 네이버 증권 시간별 시세 가져오기\n",
        "\n",
        "## URL 찾기\n",
        "\n",
        "개발자도구 > Network > Doc\n",
        "\n",
        "Name 컬럼의 항목을 클릭한 뒤 오른쪽 Preview를 보고 가져오려는 데이터가 맞는지 확인한 후 Name 컬럼의 link를 복사\n",
        "\n",
        "* https://finance.naver.com/item/sise_time.nhn?code=005930&thistime=20200228161102  \n",
        "* https://finance.naver.com/item/sise_time.nhn?code=005930&thistime=20200228161102&page=2\n",
        "* https://finance.naver.com/item/sise_time.nhn?code=005930&thistime=20200228161102&page=3\n"
      ]
    },
    {
      "cell_type": "code",
      "metadata": {
        "id": "B-mB-nQhzIve",
        "colab_type": "code",
        "outputId": "ecc40139-e67f-4ac7-a13a-fe58b73e4cca",
        "colab": {
          "base_uri": "https://localhost:8080/",
          "height": 323
        }
      },
      "source": [
        "import pandas as pd\n",
        "code = '005930'\n",
        "url = 'https://finance.naver.com/item/sise_time.nhn?code=' + code + '&thistime=20200228161102'\n",
        "df = pd.read_html(url)\n",
        "df"
      ],
      "execution_count": 0,
      "outputs": [
        {
          "output_type": "execute_result",
          "data": {
            "text/plain": [
              "[     체결시각      체결가     전일비       매도       매수         거래량     변동량\n",
              " 0     NaN      NaN     NaN      NaN      NaN         NaN     NaN\n",
              " 1   15:59  54200.0  1700.0  54300.0  54200.0  29906540.0    10.0\n",
              " 2   15:58  54200.0  1700.0  54300.0  54200.0  29906530.0  1515.0\n",
              " 3   15:57  54200.0  1700.0  54300.0  54200.0  29905015.0  1598.0\n",
              " 4   15:56  54200.0  1700.0  54300.0  54200.0  29903417.0  4116.0\n",
              " 5   15:55  54200.0  1700.0  54300.0  54200.0  29899301.0  2679.0\n",
              " 6     NaN      NaN     NaN      NaN      NaN         NaN     NaN\n",
              " 7     NaN      NaN     NaN      NaN      NaN         NaN     NaN\n",
              " 8     NaN      NaN     NaN      NaN      NaN         NaN     NaN\n",
              " 9   15:54  54200.0  1700.0  54300.0  54200.0  29896622.0  1011.0\n",
              " 10  15:53  54200.0  1700.0  54300.0  54200.0  29895611.0  1095.0\n",
              " 11  15:52  54200.0  1700.0  54300.0  54200.0  29894516.0  3445.0\n",
              " 12  15:51  54200.0  1700.0  54300.0  54200.0  29891071.0  2289.0\n",
              " 13  15:50  54200.0  1700.0  54300.0  54200.0  29888782.0  1210.0\n",
              " 14    NaN      NaN     NaN      NaN      NaN         NaN     NaN,\n",
              "    0   1   2   3   4   5   6   7   8   9   10  11\n",
              " 0   1   2   3   4   5   6   7   8   9  10  다음  맨뒤]"
            ]
          },
          "metadata": {
            "tags": []
          },
          "execution_count": 9
        }
      ]
    },
    {
      "cell_type": "markdown",
      "metadata": {
        "id": "7WKOSfC30uxw",
        "colab_type": "text"
      },
      "source": [
        "## NaN 제거\n",
        "\n",
        "dropna() 활용"
      ]
    },
    {
      "cell_type": "code",
      "metadata": {
        "id": "ig_fvEbn0tdu",
        "colab_type": "code",
        "outputId": "4111d1bf-7f96-45b1-d464-55f6bd7b14fc",
        "colab": {
          "base_uri": "https://localhost:8080/",
          "height": 359
        }
      },
      "source": [
        "df[0].dropna()"
      ],
      "execution_count": 0,
      "outputs": [
        {
          "output_type": "execute_result",
          "data": {
            "text/html": [
              "<div>\n",
              "<style scoped>\n",
              "    .dataframe tbody tr th:only-of-type {\n",
              "        vertical-align: middle;\n",
              "    }\n",
              "\n",
              "    .dataframe tbody tr th {\n",
              "        vertical-align: top;\n",
              "    }\n",
              "\n",
              "    .dataframe thead th {\n",
              "        text-align: right;\n",
              "    }\n",
              "</style>\n",
              "<table border=\"1\" class=\"dataframe\">\n",
              "  <thead>\n",
              "    <tr style=\"text-align: right;\">\n",
              "      <th></th>\n",
              "      <th>체결시각</th>\n",
              "      <th>체결가</th>\n",
              "      <th>전일비</th>\n",
              "      <th>매도</th>\n",
              "      <th>매수</th>\n",
              "      <th>거래량</th>\n",
              "      <th>변동량</th>\n",
              "    </tr>\n",
              "  </thead>\n",
              "  <tbody>\n",
              "    <tr>\n",
              "      <th>1</th>\n",
              "      <td>15:59</td>\n",
              "      <td>54200.0</td>\n",
              "      <td>1700.0</td>\n",
              "      <td>54300.0</td>\n",
              "      <td>54200.0</td>\n",
              "      <td>29906540.0</td>\n",
              "      <td>10.0</td>\n",
              "    </tr>\n",
              "    <tr>\n",
              "      <th>2</th>\n",
              "      <td>15:58</td>\n",
              "      <td>54200.0</td>\n",
              "      <td>1700.0</td>\n",
              "      <td>54300.0</td>\n",
              "      <td>54200.0</td>\n",
              "      <td>29906530.0</td>\n",
              "      <td>1515.0</td>\n",
              "    </tr>\n",
              "    <tr>\n",
              "      <th>3</th>\n",
              "      <td>15:57</td>\n",
              "      <td>54200.0</td>\n",
              "      <td>1700.0</td>\n",
              "      <td>54300.0</td>\n",
              "      <td>54200.0</td>\n",
              "      <td>29905015.0</td>\n",
              "      <td>1598.0</td>\n",
              "    </tr>\n",
              "    <tr>\n",
              "      <th>4</th>\n",
              "      <td>15:56</td>\n",
              "      <td>54200.0</td>\n",
              "      <td>1700.0</td>\n",
              "      <td>54300.0</td>\n",
              "      <td>54200.0</td>\n",
              "      <td>29903417.0</td>\n",
              "      <td>4116.0</td>\n",
              "    </tr>\n",
              "    <tr>\n",
              "      <th>5</th>\n",
              "      <td>15:55</td>\n",
              "      <td>54200.0</td>\n",
              "      <td>1700.0</td>\n",
              "      <td>54300.0</td>\n",
              "      <td>54200.0</td>\n",
              "      <td>29899301.0</td>\n",
              "      <td>2679.0</td>\n",
              "    </tr>\n",
              "    <tr>\n",
              "      <th>9</th>\n",
              "      <td>15:54</td>\n",
              "      <td>54200.0</td>\n",
              "      <td>1700.0</td>\n",
              "      <td>54300.0</td>\n",
              "      <td>54200.0</td>\n",
              "      <td>29896622.0</td>\n",
              "      <td>1011.0</td>\n",
              "    </tr>\n",
              "    <tr>\n",
              "      <th>10</th>\n",
              "      <td>15:53</td>\n",
              "      <td>54200.0</td>\n",
              "      <td>1700.0</td>\n",
              "      <td>54300.0</td>\n",
              "      <td>54200.0</td>\n",
              "      <td>29895611.0</td>\n",
              "      <td>1095.0</td>\n",
              "    </tr>\n",
              "    <tr>\n",
              "      <th>11</th>\n",
              "      <td>15:52</td>\n",
              "      <td>54200.0</td>\n",
              "      <td>1700.0</td>\n",
              "      <td>54300.0</td>\n",
              "      <td>54200.0</td>\n",
              "      <td>29894516.0</td>\n",
              "      <td>3445.0</td>\n",
              "    </tr>\n",
              "    <tr>\n",
              "      <th>12</th>\n",
              "      <td>15:51</td>\n",
              "      <td>54200.0</td>\n",
              "      <td>1700.0</td>\n",
              "      <td>54300.0</td>\n",
              "      <td>54200.0</td>\n",
              "      <td>29891071.0</td>\n",
              "      <td>2289.0</td>\n",
              "    </tr>\n",
              "    <tr>\n",
              "      <th>13</th>\n",
              "      <td>15:50</td>\n",
              "      <td>54200.0</td>\n",
              "      <td>1700.0</td>\n",
              "      <td>54300.0</td>\n",
              "      <td>54200.0</td>\n",
              "      <td>29888782.0</td>\n",
              "      <td>1210.0</td>\n",
              "    </tr>\n",
              "  </tbody>\n",
              "</table>\n",
              "</div>"
            ],
            "text/plain": [
              "     체결시각      체결가     전일비       매도       매수         거래량     변동량\n",
              "1   15:59  54200.0  1700.0  54300.0  54200.0  29906540.0    10.0\n",
              "2   15:58  54200.0  1700.0  54300.0  54200.0  29906530.0  1515.0\n",
              "3   15:57  54200.0  1700.0  54300.0  54200.0  29905015.0  1598.0\n",
              "4   15:56  54200.0  1700.0  54300.0  54200.0  29903417.0  4116.0\n",
              "5   15:55  54200.0  1700.0  54300.0  54200.0  29899301.0  2679.0\n",
              "9   15:54  54200.0  1700.0  54300.0  54200.0  29896622.0  1011.0\n",
              "10  15:53  54200.0  1700.0  54300.0  54200.0  29895611.0  1095.0\n",
              "11  15:52  54200.0  1700.0  54300.0  54200.0  29894516.0  3445.0\n",
              "12  15:51  54200.0  1700.0  54300.0  54200.0  29891071.0  2289.0\n",
              "13  15:50  54200.0  1700.0  54300.0  54200.0  29888782.0  1210.0"
            ]
          },
          "metadata": {
            "tags": []
          },
          "execution_count": 11
        }
      ]
    },
    {
      "cell_type": "code",
      "metadata": {
        "id": "M37LtTri02kf",
        "colab_type": "code",
        "colab": {}
      },
      "source": [
        ""
      ],
      "execution_count": 0,
      "outputs": []
    }
  ]
}